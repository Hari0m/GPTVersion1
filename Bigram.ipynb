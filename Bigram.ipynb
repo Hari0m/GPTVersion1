{
 "cells": [
  {
   "cell_type": "code",
   "execution_count": 1,
   "id": "22720872",
   "metadata": {},
   "outputs": [
    {
     "name": "stdout",
     "output_type": "stream",
     "text": [
      "cuda\n"
     ]
    }
   ],
   "source": [
    "import torch\n",
    "import torch.nn as nn\n",
    "from torch.nn import functional as F\n",
    "device= 'cuda' if torch.cuda.is_available() else 'cpu'\n",
    "print(device)\n",
    "block_size = 8\n",
    "batch_size = 4\n",
    "max_iters = 1000\n",
    "#eval_interval = 2500\n",
    "learning_rate = 3e-4\n",
    "eval_iters = 250"
   ]
  },
  {
   "cell_type": "code",
   "execution_count": 2,
   "id": "7f29644d-6cdd-45fe-8bbf-60133405b585",
   "metadata": {},
   "outputs": [
    {
     "name": "stdout",
     "output_type": "stream",
     "text": [
      "['\\n', ' ', '!', '\"', '&', \"'\", '(', ')', '*', ',', '-', '.', '0', '1', '2', '3', '4', '5', '6', '7', '8', '9', ':', ';', '?', 'A', 'B', 'C', 'D', 'E', 'F', 'G', 'H', 'I', 'J', 'K', 'L', 'M', 'N', 'O', 'P', 'Q', 'R', 'S', 'T', 'U', 'V', 'W', 'X', 'Y', 'Z', '[', ']', '_', 'a', 'b', 'c', 'd', 'e', 'f', 'g', 'h', 'i', 'j', 'k', 'l', 'm', 'n', 'o', 'p', 'q', 'r', 's', 't', 'u', 'v', 'w', 'x', 'y', 'z', '\\ufeff']\n"
     ]
    }
   ],
   "source": [
    "with open('wizardofoz.txt','r',encoding = 'utf-8') as f:\n",
    "    text = f.read()\n",
    "chars = sorted(set(text))\n",
    "print(chars)\n",
    "vocsize = len(chars)"
   ]
  },
  {
   "cell_type": "code",
   "execution_count": 3,
   "id": "96057896-c98b-455f-aee8-bf66160edf2d",
   "metadata": {},
   "outputs": [],
   "source": [
    "string_to_int = {ch:i for i,ch in enumerate(chars)}\n",
    "int_to_string = {i:ch for i,ch in enumerate(chars)}\n",
    "encode = lambda s: [string_to_int[c] for c in s]\n",
    "decode = lambda l: ''.join([int_to_string[i] for i in l])\n",
    "\n",
    "data = torch.tensor(encode(text),dtype=torch.long)\n",
    "# print(data[:100])"
   ]
  },
  {
   "cell_type": "code",
   "execution_count": 4,
   "id": "f6e2ccb3-0b5f-44aa-b678-b2e3cb3c1125",
   "metadata": {},
   "outputs": [],
   "source": [
    "n = int(0.8*len(data))\n",
    "train_data = data[:n]\n",
    "val_data = data[n:]"
   ]
  },
  {
   "cell_type": "code",
   "execution_count": 5,
   "id": "d14a8ba7-d385-415a-a411-92c68d0ed44d",
   "metadata": {},
   "outputs": [
    {
     "name": "stdout",
     "output_type": "stream",
     "text": [
      "inputs:\n",
      "tensor([[73,  1, 76, 68, 71, 71, 78,  9],\n",
      "        [56, 71, 54, 56, 64,  1, 54, 67],\n",
      "        [61, 54, 73,  1, 73, 71, 58, 66],\n",
      "        [58,  1, 71, 68, 68, 59,  1, 72]], device='cuda:0')\n",
      "targets:\n",
      "tensor([[ 1, 76, 68, 71, 71, 78,  9,  3],\n",
      "        [71, 54, 56, 64,  1, 54, 67, 57],\n",
      "        [54, 73,  1, 73, 71, 58, 66, 55],\n",
      "        [ 1, 71, 68, 68, 59,  1, 72, 68]], device='cuda:0')\n"
     ]
    }
   ],
   "source": [
    "def get_batch(split):\n",
    "    data = train_data if split == 'train' else val_data\n",
    "    ix = torch.randint(len(data)-block_size,(batch_size,))\n",
    "    # print(ix)\n",
    "    x = torch.stack([data[i:i+block_size] for i in ix])\n",
    "    y = torch.stack([data[i+1:i+block_size+1] for i in ix])\n",
    "    x,y = x.to(device),y.to(device)\n",
    "    return x,y\n",
    "x,y = get_batch('train')\n",
    "print('inputs:')\n",
    "print(x)\n",
    "print('targets:')\n",
    "print(y)"
   ]
  },
  {
   "cell_type": "code",
   "execution_count": 6,
   "id": "79bfe3c1-1e5e-4d10-bdaa-f08f0d43522d",
   "metadata": {},
   "outputs": [],
   "source": [
    "@torch.no_grad()\n",
    "def estimate_loss():\n",
    "    out = {}\n",
    "    model.eval()\n",
    "    for split in ['train','val']:\n",
    "        losses = torch.zeros(eval_iters)\n",
    "        for k in range(eval_iters):\n",
    "            X,Y = get_batch(split)\n",
    "            logits,loss = model(X,Y)\n",
    "            losses[k] = loss.item()\n",
    "        out[split] = losses.mean()\n",
    "    model.train()\n",
    "    return out"
   ]
  },
  {
   "cell_type": "code",
   "execution_count": 7,
   "id": "97734725-5cc6-4b17-b17a-e75e150d30ee",
   "metadata": {},
   "outputs": [],
   "source": [
    "\n",
    "# x = train_data[:block_size]\n",
    "# y = train_data[1:block_size+1]\n",
    "# for t in range(block_size):\n",
    "#     context = x[:t+1]\n",
    "#     target = y[t]\n",
    "#     print(\"when input is\", context, \"target is\", target)"
   ]
  },
  {
   "cell_type": "code",
   "execution_count": 8,
   "id": "c95f8f99-c784-4ef4-9891-a3453c34e1ce",
   "metadata": {},
   "outputs": [
    {
     "name": "stdout",
     "output_type": "stream",
     "text": [
      "\n",
      "4&gXB:[r&5IQL?WW)]l.b?59oSln\"t 8VukNuq7GCwE.Mv&Vn﻿Yli7_vDh)l4z3Z75AQ1xk5v\n",
      "467V43;uH_-dw(pHeyrV2&hj0)﻿t6﻿xgiQwEhT-Nb&*:ED﻿&:X]jj6Xv)RO[**kN;q8sVn[MZgMvz7&011iZFK;ibeX AbF04rwv1xsMtK﻿z')6MlYh]q\n",
      "q,:yaXg?\";&hXzn25)o5L4b&9_8sMs(\"C)r&W0G6ykN7YL_yyUCP3 dQskW8K)Q8eIK2xmJ7ITg5\"5m-fT9bgNu)(;npnk﻿QrXT_-BqhExU'?oSrbK﻿JHcwEQM﻿mMW;Ea] E_RFKvZ7YpA,\"u2[n 4Ob;P)Vg-tJy&Z,LYLsNu.PDRLW.4*ykNuDl,:)2\n",
      "4W_HBD\"ze,?yf,AQo[C)O7v1g:zIQ1AQ1xWGzEzVOlkNZR'?,no0VcDd\n",
      "49q7IU9]KNgIKQGVF]FQougMNK\"9Ds[mA 4(1x?&D]C2qoWs0W.(﻿bwX58s)v\n"
     ]
    }
   ],
   "source": [
    "class BigramLanguageModel(nn.Module):\n",
    "    def __init__(self, vocsize):\n",
    "        super().__init__()\n",
    "        self.token_embedding_table = nn.Embedding(vocsize,vocsize)\n",
    "    def forward(self,index,targets = None):\n",
    "        logits = self.token_embedding_table(index)\n",
    "\n",
    "        if targets is None:\n",
    "            loss = None\n",
    "        else:\n",
    "            B,T,C = logits.shape\n",
    "            logits = logits.view(B*T,C)\n",
    "            targets = targets.view(B*T)\n",
    "            loss = F.cross_entropy(logits,targets)\n",
    "            \n",
    "        return logits,loss\n",
    "    def generate(self,index,max_new_tokens):\n",
    "        for _ in range(max_new_tokens):\n",
    "            # get the predictions\n",
    "            logits,loss = self.forward(index)\n",
    "            # focus on only thelast time step\n",
    "            logits = logits[:,-1,:]\n",
    "            # apply softmax to get the probabilities\n",
    "            probs = F.softmax(logits,dim = -1)\n",
    "            # sample from the distribution\n",
    "            index_next = torch.multinomial(probs,num_samples = 1)\n",
    "            index = torch.cat((index,index_next),dim = 1)\n",
    "        return index\n",
    "model = BigramLanguageModel(vocsize)\n",
    "m = model.to(device)\n",
    "\n",
    "context = torch.zeros((1,1),dtype = torch.long,device = device)\n",
    "generated_chars = decode(m.generate(context, max_new_tokens = 500)[0].tolist())\n",
    "print(generated_chars)\n",
    "\n",
    "        "
   ]
  },
  {
   "cell_type": "code",
   "execution_count": 14,
   "id": "a508659e-172d-4eb1-87e5-be2c32085d66",
   "metadata": {},
   "outputs": [
    {
     "name": "stdout",
     "output_type": "stream",
     "text": [
      "step: 0, train loss 4.1981, val loss: 4.2135\n",
      "step: 250, train loss 4.1518, val loss: 4.1389\n",
      "step: 500, train loss 4.0912, val loss: 4.0738\n",
      "step: 750, train loss 4.0304, val loss: 4.0575\n",
      "3.7339131832122803\n"
     ]
    }
   ],
   "source": [
    "optimizer = torch.optim.AdamW(model.parameters(),lr=learning_rate)\n",
    "for iter in range(max_iters):\n",
    "    if iter % eval_iters == 0:\n",
    "        losses = estimate_loss()\n",
    "        print(f\"step: {iter}, train loss {losses['train']:.4f}, val loss: {losses['val']:.4f}\")\n",
    "\n",
    "    #sample a batch of data\n",
    "    xb,yb = get_batch('train')\n",
    "\n",
    "    #evaluate the loss\n",
    "    logits,loss= model.forward(xb,yb)\n",
    "    optimizer.zero_grad(set_to_none = True)\n",
    "    loss.backward()\n",
    "    optimizer.step()\n",
    "\n",
    "print(loss.item())"
   ]
  },
  {
   "cell_type": "code",
   "execution_count": 15,
   "id": "4ece44ff-095a-4263-a75c-b7edfbe8574c",
   "metadata": {},
   "outputs": [
    {
     "name": "stdout",
     "output_type": "stream",
     "text": [
      "\n",
      "vd\"AZ8T4KX_dbT5U!ZY﻿YEH7?oug1T&CQNbw.c!3pe\":gi37j2[[d\n",
      "HeKr0X'4D31pa\"W*mI MR'wEIl4L?D'culOj)v.!B\",nh_:YhXBX 4w,sY\"nJN8K﻿pafEIq\n",
      "TiGwirCSimC7K)Qr sO7.xKXxI['4F:&24Oj2Wm3C)t4]H:?li9uv7:NuB67(n&AMKrc77edbtu﻿ld7AbNuh[y:CQ*:Yyt_\"AsiR]jeopYJRkGa]﻿drzq8lp,9p[[vJMPoSJeR&2-eybHpY--clO7\n",
      "btr2;h2x\"\"VuI&67yUQouliM--NKv&xqWj;zq:Sy)rd7q)pxo lv00BEzeap_PB_\"beIGXx lD'?& coaK*,epY(1HJw_﻿0AF]2'5ej]Hwi_ch]qMttujZ\n",
      "J:kGVksFKEa?5VZk I86hSWYoupnuY1.vJ]ioWX﻿0\"n_rHclB?o-mHch2fem,\".&ghK&ZlizqL])qwE2vO\" bFKrtev 44:yC*B2\n",
      "43tX\n"
     ]
    }
   ],
   "source": [
    "context = torch.zeros((1,1),dtype = torch.long,device = device)\n",
    "generated_chars = decode(m.generate(context,max_new_tokens= 500)[0].tolist())\n",
    "print(generated_chars)"
   ]
  },
  {
   "cell_type": "markdown",
   "id": "d54aa301-56dc-4e93-b4e9-4dc85cad22b3",
   "metadata": {},
   "source": [
    "ReLU, Sigmoid, TanH\n",
    "ReLU: "
   ]
  }
 ],
 "metadata": {
  "kernelspec": {
   "display_name": "Cuda-gpt",
   "language": "python",
   "name": "cuda"
  },
  "language_info": {
   "codemirror_mode": {
    "name": "ipython",
    "version": 3
   },
   "file_extension": ".py",
   "mimetype": "text/x-python",
   "name": "python",
   "nbconvert_exporter": "python",
   "pygments_lexer": "ipython3",
   "version": "3.9.12"
  }
 },
 "nbformat": 4,
 "nbformat_minor": 5
}
